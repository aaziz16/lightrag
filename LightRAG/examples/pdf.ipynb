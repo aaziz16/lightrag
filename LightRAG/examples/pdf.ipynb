{
 "cells": [
  {
   "cell_type": "code",
   "execution_count": 3,
   "metadata": {},
   "outputs": [],
   "source": [
    "import os\n",
    "from azure.ai.formrecognizer import DocumentAnalysisClient\n",
    "from azure.core.credentials import AzureKeyCredential\n",
    "\n",
    "# Set up your Azure credentials and endpoint\n",
    "endpoint = \"https://eastus.api.cognitive.microsoft.com/\"\n",
    "key = \"711a8a1fcf204210aea2ad04b5b1669e\"\n",
    "\n",
    "document_analysis_client = DocumentAnalysisClient(\n",
    "    endpoint=endpoint, credential=AzureKeyCredential(key)\n",
    ")\n",
    "\n",
    "def extract_text_from_image_pdf(document_file_path, output_txt_path):  \n",
    "    # Open the file in binary mode\n",
    "    with open(document_file_path, \"rb\") as document_file:\n",
    "        # Read the file content\n",
    "        document = document_file.read()\n",
    "    \n",
    "        # Using the prebuilt-read model for OCR  \n",
    "        poller = document_analysis_client.begin_analyze_document(\n",
    "            model_id=\"prebuilt-read\", document=document\n",
    "        )\n",
    "        result = poller.result()\n",
    "  \n",
    "        # Write extracted text to a .txt file  \n",
    "        with open(output_txt_path, \"w\", encoding=\"utf-8\") as txt_file:  \n",
    "            for page in result.pages:  \n",
    "                txt_file.write(f\"---- Page {page.page_number} ----\\n\")  \n",
    "                for line in page.lines:  \n",
    "                    txt_file.write(f\"{line.content}\\n\")  \n",
    "# diesl-graph\\classical_graphrag\\firestoppin_orignal_sub.pdf\n",
    "# Call the function with the file path and the output path\n",
    "# diesl-graph\\lightrag\\LightRAG\\examples\\submittal_documents\\resillent_revisedd.pdf\n",
    "extract_text_from_image_pdf(\"specification_documents/096500-Resilient-Flooring-Rev 01-230310 (1).pdf\", \"spec_rsl.txt\")\n",
    "# diesl-graph\\classical_graphrag\\096500-Resilient-Flooring-Rev 01-230310.pdf\n",
    "\n",
    "# diesl-graph\\lightrag\\LightRAG\\examples\\specification_documents\\096500-Resilient-Flooring-Rev 01-230310 (1).pdf"
   ]
  },
  {
   "cell_type": "code",
   "execution_count": 9,
   "metadata": {},
   "outputs": [
    {
     "ename": "UnicodeEncodeError",
     "evalue": "'charmap' codec can't encode character '\\u25a1' in position 134: character maps to <undefined>",
     "output_type": "error",
     "traceback": [
      "\u001b[1;31m---------------------------------------------------------------------------\u001b[0m",
      "\u001b[1;31mUnicodeEncodeError\u001b[0m                        Traceback (most recent call last)",
      "Cell \u001b[1;32mIn[9], line 14\u001b[0m\n\u001b[0;32m     11\u001b[0m                     text_file\u001b[38;5;241m.\u001b[39mwrite(\u001b[38;5;124m\"\u001b[39m\u001b[38;5;130;01m\\n\u001b[39;00m\u001b[38;5;124m\"\u001b[39m)  \u001b[38;5;66;03m# Add a newline after each page\u001b[39;00m\n\u001b[0;32m     13\u001b[0m \u001b[38;5;66;03m# Usage example\u001b[39;00m\n\u001b[1;32m---> 14\u001b[0m \u001b[43mpdf_to_text\u001b[49m\u001b[43m(\u001b[49m\u001b[38;5;124;43m'\u001b[39;49m\u001b[38;5;124;43mp2.pdf\u001b[39;49m\u001b[38;5;124;43m'\u001b[39;49m\u001b[43m,\u001b[49m\u001b[43m \u001b[49m\u001b[38;5;124;43m'\u001b[39;49m\u001b[38;5;124;43moutput_gyp.txt\u001b[39;49m\u001b[38;5;124;43m'\u001b[39;49m\u001b[43m)\u001b[49m\n",
      "Cell \u001b[1;32mIn[9], line 10\u001b[0m, in \u001b[0;36mpdf_to_text\u001b[1;34m(pdf_path, txt_path)\u001b[0m\n\u001b[0;32m      8\u001b[0m text \u001b[38;5;241m=\u001b[39m page\u001b[38;5;241m.\u001b[39mextract_text()\n\u001b[0;32m      9\u001b[0m \u001b[38;5;28;01mif\u001b[39;00m text:\n\u001b[1;32m---> 10\u001b[0m     \u001b[43mtext_file\u001b[49m\u001b[38;5;241;43m.\u001b[39;49m\u001b[43mwrite\u001b[49m\u001b[43m(\u001b[49m\u001b[43mtext\u001b[49m\u001b[43m)\u001b[49m\n\u001b[0;32m     11\u001b[0m     text_file\u001b[38;5;241m.\u001b[39mwrite(\u001b[38;5;124m\"\u001b[39m\u001b[38;5;130;01m\\n\u001b[39;00m\u001b[38;5;124m\"\u001b[39m)\n",
      "File \u001b[1;32mC:\\Program Files\\WindowsApps\\PythonSoftwareFoundation.Python.3.12_3.12.1520.0_x64__qbz5n2kfra8p0\\Lib\\encodings\\cp1252.py:19\u001b[0m, in \u001b[0;36mIncrementalEncoder.encode\u001b[1;34m(self, input, final)\u001b[0m\n\u001b[0;32m     18\u001b[0m \u001b[38;5;28;01mdef\u001b[39;00m \u001b[38;5;21mencode\u001b[39m(\u001b[38;5;28mself\u001b[39m, \u001b[38;5;28minput\u001b[39m, final\u001b[38;5;241m=\u001b[39m\u001b[38;5;28;01mFalse\u001b[39;00m):\n\u001b[1;32m---> 19\u001b[0m     \u001b[38;5;28;01mreturn\u001b[39;00m \u001b[43mcodecs\u001b[49m\u001b[38;5;241;43m.\u001b[39;49m\u001b[43mcharmap_encode\u001b[49m\u001b[43m(\u001b[49m\u001b[38;5;28;43minput\u001b[39;49m\u001b[43m,\u001b[49m\u001b[38;5;28;43mself\u001b[39;49m\u001b[38;5;241;43m.\u001b[39;49m\u001b[43merrors\u001b[49m\u001b[43m,\u001b[49m\u001b[43mencoding_table\u001b[49m\u001b[43m)\u001b[49m[\u001b[38;5;241m0\u001b[39m]\n",
      "\u001b[1;31mUnicodeEncodeError\u001b[0m: 'charmap' codec can't encode character '\\u25a1' in position 134: character maps to <undefined>"
     ]
    }
   ],
   "source": [
    "import PyPDF2\n",
    "\n",
    "def pdf_to_text(pdf_path, txt_path):\n",
    "    with open(pdf_path, 'rb') as pdf_file:\n",
    "        reader = PyPDF2.PdfReader(pdf_file)\n",
    "        with open(txt_path, 'w') as text_file:\n",
    "            for page in reader.pages:\n",
    "                text = page.extract_text()\n",
    "                if text:\n",
    "                    text_file.write(text)\n",
    "                    text_file.write(\"\\n\")  # Add a newline after each page\n",
    "\n",
    "# Usage example\n",
    "pdf_to_text('p2.pdf', 'output_gyp.txt')\n"
   ]
  },
  {
   "cell_type": "code",
   "execution_count": 2,
   "metadata": {},
   "outputs": [
    {
     "name": "stdout",
     "output_type": "stream",
     "text": [
      "{'choices': [{'content_filter_results': {'hate': {'filtered': False, 'severity': 'safe'}, 'protected_material_code': {'filtered': False, 'detected': False}, 'protected_material_text': {'filtered': False, 'detected': False}, 'self_harm': {'filtered': False, 'severity': 'safe'}, 'sexual': {'filtered': False, 'severity': 'safe'}, 'violence': {'filtered': True, 'severity': 'medium'}}, 'finish_reason': 'content_filter', 'index': 0, 'logprobs': None, 'message': {'content': \"World War II was a global conflict that took place from 1939 to 1945, involving most of the world's nations, including all of the great powers, eventually forming two opposing military alliances: the Allies and the Axis.\\n\\n### Key Events and Timeline:\\n1. **1939:**\\n   - **Invasion of Poland:** The war began on September 1, 1939, when Nazi Germany, led by Adolf Hitler, invaded Poland. This prompted Britain and France to declare war on Germany on September 3, 1939.\\n   - **Soviet Invasion of Poland:** Later in September, the Soviet Union invaded Poland from the east, as part of a secret agreement with Germany.\\n\\n2. **1940:**\\n   - **Fall of France:** Germany launched a blitzkrieg (lightning war) and quickly defeated France. By June 1940, France had surrendered.\\n   - **Battle of Britain:** Germany attempted to gain air superiority over Britain but was ultimately unsuccessful.\\n\\n3. **1941:**\\n   - **Operation Barbarossa:** Germany invaded the Soviet Union in June 1941, breaking the non-aggression pact.\\n   - **Pearl Harbor:** On December 7, 1941, Japan attacked the United States naval base at Pearl Harbor in Hawaii, leading the US to enter the war.\\n\\n4. **1942-1943:**\\n   - **Battle of Stalingrad:** One of the deadliest battles in history, the Soviet Union successfully defended Stalingrad, marking a turning point in the war against Germany.\\n   - **Pacific Theater:** The US began to turn the tide against Japan with victories in battles such as Midway and Guadalcanal.\\n\\n5. **1944:**\\n   - **D-Day:** On June 6, 1944, Allied forces landed on the beaches of Normandy, France, marking the beginning of the end for Nazi Germany.\\n   - **Liberation of Paris:** Paris was liberated by Allied forces in August 1944.\\n\\n6. **1945:**\\n   - **Fall of Berlin:** Soviet forces captured Berlin in May 1945. Hitler committed suicide, and Germany surrendered on May 8, 1945.\\n   - **Atomic Bombs and Japan's Surrender:** The US dropped atomic bombs on the Japanese cities of Hiroshima and Nagasaki in August 1945. Japan surrendered on September 2, 1945, officially ending the war.\\n\\n### Consequences:\\n- **Human Cost:** The war resulted in an estimated 70-85 million fatalities, about 3% of the world's population at the time.\\n- **Holocaust:** The genocide led by Nazi Germany, known as the Holocaust, resulted in the systematic murder of six million Jews and millions of others, including Poles, Soviet POWs, Romani people, disabled individuals, and political dissidents.\\n- **Cold War:** The geopolitical landscape was dramatically altered, lea\", 'role': 'assistant'}}], 'created': 1726435536, 'id': 'chatcmpl-A7r2OvEExfmEIM8j96aYwos2ul9Eb', 'model': 'gpt-4o-2024-05-13', 'object': 'chat.completion', 'prompt_filter_results': [{'prompt_index': 0, 'content_filter_results': {'hate': {'filtered': False, 'severity': 'safe'}, 'jailbreak': {'filtered': False, 'detected': False}, 'self_harm': {'filtered': False, 'severity': 'safe'}, 'sexual': {'filtered': False, 'severity': 'safe'}, 'violence': {'filtered': False, 'severity': 'safe'}}}], 'system_fingerprint': 'fp_80a1bad4c7', 'usage': {'completion_tokens': 732, 'prompt_tokens': 27, 'total_tokens': 759}}\n"
     ]
    }
   ],
   "source": [
    "import os\n",
    "import requests\n",
    "\n",
    "# Configuration\n",
    "API_KEY = \"9101287fb67e484b9970dd8d7e31aa05\"\n",
    "headers = {\n",
    "    \"Content-Type\": \"application/json\",\n",
    "    \"api-key\": API_KEY,\n",
    "}\n",
    "\n",
    "# Payload for the request\n",
    "payload = {\n",
    "  \"messages\": [\n",
    "    {\n",
    "      \"role\": \"system\",\n",
    "      \"content\": \"You are an AI assistant that helps people find information.\"\n",
    "    },\n",
    "    {\n",
    "      \"role\": \"user\",\n",
    "      \"content\": \"what happened in ww2\"\n",
    "    }\n",
    "  ],\n",
    "  \"temperature\": 0.7,\n",
    "  \"top_p\": 0.95,\n",
    "  \"max_tokens\": 800\n",
    "}\n",
    "\n",
    "ENDPOINT = \"https://diesl-eus-openai-dev.openai.azure.com/openai/deployments/gpt-4o-alpha/chat/completions?api-version=2024-02-15-preview\"\n",
    "\n",
    "# Send request\n",
    "try:\n",
    "    response = requests.post(ENDPOINT, headers=headers, json=payload)\n",
    "    response.raise_for_status()  # Will raise an HTTPError if the HTTP request returned an unsuccessful status code\n",
    "except requests.RequestException as e:\n",
    "    raise SystemExit(f\"Failed to make the request. Error: {e}\")\n",
    "\n",
    "# Handle the response as needed (e.g., print or process)\n",
    "print(response.json())\n"
   ]
  },
  {
   "cell_type": "code",
   "execution_count": null,
   "metadata": {},
   "outputs": [],
   "source": [
    "AZURE_DOCUMENT_INTELLIGENCE_ENDPOINT=\"https://diesl-eu2-dintel-01.cognitiveservices.azure.com/\"\n",
    "AZURE_DOCUMENT_INTELLIGENCE_KEY=\"210cbbdd120f4e6389971a0516f3d4d1\"\n",
    " \n",
    "# Initiate Azure AI Document Intelligence to load the document. You can either specify file_path or url_path to load the \n",
    "document.loader = AzureAIDocumentIntelligenceLoader(file_path=\"<path to your file>\", api_key = doc_intelligence_key, api_endpoint = doc_intelligence_endpoint, api_model=\"prebuilt-layout\")docs = loader.load()# Split the document into chunks base on markdown headers.headers_to_split_on = [(\"#\", \"Header 1\"),(\"##\", \"Header 2\"),(\"###\", \"Header 3\"),]text_splitter = MarkdownHeaderTextSplitter(headers_to_split_on=headers_to_split_on)docs_string = docs[0].page_contentsplits = text_splitter.split_text(docs_string)print(\"Length of splits: \" + str(len(splits)))\n",
    " "
   ]
  },
  {
   "cell_type": "code",
   "execution_count": null,
   "metadata": {},
   "outputs": [],
   "source": [
    "PS C:\\Users\\aziz1\\Desktop\\Projects\\diesl\\graphrag> python -m graphrag.query --root . --method local \"Go step by step. Be very meticulous about step 3.\n",
    "    Step 1: Read and become an expert on the specification document. Create a list for tags of products specs and manufacturers(product name) for GYP BD-1,GYP BD-2, and GYP BD-3.\n",
    "    Step 2: Read and become an expert on the submittal document . Create a list for tags of products specs and manufacturers(product name) for GYP BD-1,GYP BD-2, and GYP BD-3 for the submittal document. \n",
    "    Step 3: Produce a confidence score (in the form of percentage) that reflects the similarity between specification document and submittal documents documents  based on the following rubric: \n",
    "      1) 0 reflects a score of low similarity between the documents. \n",
    "      2) 100 reflects a score of high similarity.\n",
    "      3) Score must be between 0-100\n",
    "      4) Items must be about the following subject:\n",
    "      5) If you identify an item detected in both specification document and submittal document , increase percentage to reflect high similarity.\n",
    "      6) If you identify an item detected in specification document but not submittal document , decrease percentage to reflect low similarity.\n",
    "      7) If you identify an item detected in submittal document but not in specification_report_content , decrease percentage to reflect low similarity.\n",
    "      8) Compare the content and text in specification document and submittal document, when you determine few similarities decrease percentage to reflect low similarity. \n",
    "      9) Compare the content and text in specification document and submittal document, when you determine many similarities increase percentage to reflect high similarity. \n",
    "      10) Return percentage and nothing more as the output. No context or analysis only the percentage.\n",
    "      11) Ensure only an integer / percentage was returned from the previous step.\"\n"
   ]
  }
 ],
 "metadata": {
  "kernelspec": {
   "display_name": "Python 3",
   "language": "python",
   "name": "python3"
  },
  "language_info": {
   "codemirror_mode": {
    "name": "ipython",
    "version": 3
   },
   "file_extension": ".py",
   "mimetype": "text/x-python",
   "name": "python",
   "nbconvert_exporter": "python",
   "pygments_lexer": "ipython3",
   "version": "3.12.7"
  }
 },
 "nbformat": 4,
 "nbformat_minor": 2
}
